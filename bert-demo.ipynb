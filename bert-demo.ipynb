import transformers
import torch
from transformers import BertModel, BertTokenizer, BertForSequenceClassification, Pipeline, FeatureExtractionPipeline

tokenizer = BertTokenizer.from_pretrained("bert-base-uncased")
model = BertModel.from_pretrained("bert-base-uncased")
fe_pipeline = FeatureExtractionPipeline(model, tokenizer)

if __name__ == "__main__":
    sent = "My name is Simola Nayak and I love cats."
    sent2 = "Huggingface is fun. You should try it."
    toks1 = tokenizer.tokenize(sent)
    info1 = tokenizer.encode_plus(sent)
    info2 = tokenizer.encode_plus(sent)


